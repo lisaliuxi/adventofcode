{
 "cells": [
  {
   "cell_type": "code",
   "execution_count": 1,
   "id": "907694e2",
   "metadata": {},
   "outputs": [],
   "source": [
    "import pandas as pd\n",
    "import numpy as np"
   ]
  },
  {
   "cell_type": "code",
   "execution_count": 2,
   "id": "1b03e2db",
   "metadata": {},
   "outputs": [],
   "source": [
    "list_id = pd.read_excel('day1.xlsx', header=None, sheet_name = 'Sheet1')"
   ]
  },
  {
   "cell_type": "code",
   "execution_count": 3,
   "id": "5fce8fbc",
   "metadata": {},
   "outputs": [],
   "source": [
    "list_id_left = list_id[0].to_list()\n",
    "list_id_right = list_id[1].to_list()\n",
    "\n",
    "list_id_left.sort()\n",
    "list_id_right.sort()"
   ]
  },
  {
   "cell_type": "markdown",
   "id": "fe3912e0",
   "metadata": {},
   "source": [
    "# part 1"
   ]
  },
  {
   "cell_type": "code",
   "execution_count": 4,
   "id": "aa9a4426",
   "metadata": {},
   "outputs": [],
   "source": [
    "diff = 0\n",
    "\n",
    "for left, right in zip(list_id_left, list_id_right):\n",
    "    diff += abs(left - right)"
   ]
  },
  {
   "cell_type": "code",
   "execution_count": 5,
   "id": "000f6a29",
   "metadata": {},
   "outputs": [
    {
     "data": {
      "text/plain": [
       "2970687"
      ]
     },
     "execution_count": 5,
     "metadata": {},
     "output_type": "execute_result"
    }
   ],
   "source": [
    "diff"
   ]
  },
  {
   "cell_type": "markdown",
   "id": "17cbd207",
   "metadata": {},
   "source": [
    "# part 2"
   ]
  },
  {
   "cell_type": "code",
   "execution_count": 6,
   "id": "d2c17c75",
   "metadata": {},
   "outputs": [
    {
     "name": "stdout",
     "output_type": "stream",
     "text": [
      "23963899\n"
     ]
    }
   ],
   "source": [
    "from collections import Counter\n",
    "\n",
    "sim = 0\n",
    "\n",
    "value_counts = Counter(list_id_left)\n",
    "for value, count in value_counts.items():\n",
    "#     print(f\"Value: {value}, Count: {count}\")\n",
    "    \n",
    "    if value in list_id_right:\n",
    "        count_in_right = list_id_right.count(value)\n",
    "        sim += value * count * count_in_right\n",
    "    else:\n",
    "        pass\n",
    "\n",
    "print(sim)\n",
    "        "
   ]
  },
  {
   "cell_type": "code",
   "execution_count": null,
   "id": "5ac01824",
   "metadata": {},
   "outputs": [],
   "source": []
  },
  {
   "cell_type": "code",
   "execution_count": null,
   "id": "e14a2fb5",
   "metadata": {},
   "outputs": [],
   "source": []
  }
 ],
 "metadata": {
  "kernelspec": {
   "display_name": "Python 3 (ipykernel)",
   "language": "python",
   "name": "python3"
  },
  "language_info": {
   "codemirror_mode": {
    "name": "ipython",
    "version": 3
   },
   "file_extension": ".py",
   "mimetype": "text/x-python",
   "name": "python",
   "nbconvert_exporter": "python",
   "pygments_lexer": "ipython3",
   "version": "3.11.5"
  }
 },
 "nbformat": 4,
 "nbformat_minor": 5
}
